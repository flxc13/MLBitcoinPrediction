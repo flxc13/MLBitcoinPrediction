{
 "cells": [
  {
   "cell_type": "markdown",
   "id": "b8b35941-c891-4a5a-ab30-c98b04b1ca9b",
   "metadata": {},
   "source": [
    "# Step 1: Import the packages"
   ]
  },
  {
   "cell_type": "code",
   "execution_count": 1,
   "id": "7bf32a51-de89-47a7-99aa-22252e2fd546",
   "metadata": {},
   "outputs": [],
   "source": [
    "import ccxt\n",
    "import pandas as pd\n",
    "import numpy as np\n",
    "import time\n",
    "from sklearn.model_selection import train_test_split, GridSearchCV, TimeSeriesSplit\n",
    "from sklearn.preprocessing import StandardScaler\n",
    "from sklearn import svm\n",
    "from sklearn.metrics import accuracy_score, classification_report, confusion_matrix, roc_auc_score, roc_curve, auc\n",
    "import seaborn as sns\n",
    "import matplotlib.pyplot as plt"
   ]
  },
  {
   "cell_type": "markdown",
   "id": "5dfba760-d5d3-463f-aaf1-8e2bb24acbaf",
   "metadata": {},
   "source": [
    "# Step 2: Data Collection using ccxt\n",
    "This code fetches historical OHLCV (Open, High, Low, Close, Volume) data for the BTC/USDT trading pair from Binance using the `ccxt` library. \n",
    "\n",
    "1. **Function `fetch_ohlcv`:**\n",
    "   - Initializes the Binance exchange.\n",
    "   - Fetches OHLCV data in a loop until the current time is reached.\n",
    "   - Handles up to 1000 data points per request due to API limits.\n",
    "   - Collects and stores data in a list, then converts it to a Pandas DataFrame.\n",
    "\n",
    "2. **Data Fetching:**\n",
    "   - Retrieves BTC/USDT data from January 1, 2018, with a 6-hour timeframe.\n",
    "   - Converts timestamps to datetime format and sets them as the DataFrame index.\n",
    "\n",
    "3. **Feature Engineering:**\n",
    "   - Calculates returns as the percentage change in the closing price.\n",
    "   - Creates a binary label: assigns 1 if the return is greater than or equal to 0.05%, otherwise assigns 0.\n",
    "\n",
    "This setup allows analysis of BTC/USDT price movements and simple classification based on return thresholds."
   ]
  },
  {
   "cell_type": "code",
   "execution_count": 2,
   "id": "57115b56-b8ba-423c-bf0e-0bba352cf0d7",
   "metadata": {},
   "outputs": [
    {
     "name": "stdout",
     "output_type": "stream",
     "text": [
      "Error fetching data: list index out of range\n"
     ]
    }
   ],
   "source": [
    "# Fetch historical OHLCV data\n",
    "def fetch_ohlcv(symbol, timeframe, since, limit=1000):\n",
    "    exchange = ccxt.binance()\n",
    "    all_data = []\n",
    "    while since < exchange.milliseconds():\n",
    "        try:\n",
    "            ohlcv = exchange.fetch_ohlcv(symbol, timeframe, since, limit=limit)\n",
    "            all_data += ohlcv\n",
    "            since = ohlcv[-1][0] + 1\n",
    "            time.sleep(exchange.rateLimit / 1000)\n",
    "        except Exception as e:\n",
    "            print(f\"Error fetching data: {e}\")\n",
    "            break\n",
    "    return pd.DataFrame(all_data, columns=['timestamp', 'open', 'high', 'low', 'close', 'volume'])\n",
    "\n",
    "# Fetch BTC/USD data and compute features\n",
    "symbol = 'BTC/USDT'\n",
    "timeframe = '6h'\n",
    "since = ccxt.binance().parse8601('2018-01-01T00:00:00Z')\n",
    "stock_data = fetch_ohlcv(symbol, timeframe, since)\n",
    "\n",
    "# Convert timestamp to datetime and set index\n",
    "stock_data['timestamp'] = pd.to_datetime(stock_data['timestamp'], unit='ms')\n",
    "stock_data.set_index('timestamp', inplace=True)\n",
    "\n",
    "# Add returns as a simple target: 1 if return >= 0.25%, else 0\n",
    "threshold = 0.0005  # 0.05% threshold for positive returns\n",
    "stock_data['Returns'] = stock_data['close'].pct_change()\n",
    "stock_data['Label'] = stock_data['Returns'].apply(lambda x: 1 if x >= threshold else 0)"
   ]
  },
  {
   "cell_type": "markdown",
   "id": "f90cd68b-0361-4dad-b8ab-68681d2319a6",
   "metadata": {},
   "source": [
    "# Step 3: Feature Engineering\n",
    "\n",
    "These codes computes technical indicators for financial data analysis:\n",
    "\n",
    "1. **Open - Close:** Difference between open and close prices.\n",
    "2. **High - Low:** Difference between high and low prices.\n",
    "3. **SMA:** Simple Moving Average over specified periods.\n",
    "4. **EMA:** Exponential Moving Average over specified periods.\n",
    "5. **RSI:** Evaluates price changes for overbought/oversold conditions.\n",
    "6. **MACD:** Difference between fast and slow EMAs with a signal line.\n",
    "7. **Bollinger Bands:** Moving average with bands at 2 standard deviations.\n",
    "\n",
    "### FeaturesComputation Class\n",
    "\n",
    "- Computes features and returns them in a dictionary.\n",
    "- Converts features to a DataFrame, aligns with the index, and drops missing values.\n",
    "\n",
    "### Data Preparation\n",
    "\n",
    "- `X`: Feature matrix.\n",
    "- `y`: Target labels aligned with `X`.\n",
    "\n",
    "Useful for predictive modeling and trend analysis."
   ]
  },
  {
   "cell_type": "code",
   "execution_count": 3,
   "id": "f4b36e47-004d-4b3b-9822-26f90e400b01",
   "metadata": {},
   "outputs": [],
   "source": [
    "# Feature 1: Open - Close\n",
    "def openClose(open, close, lag=1):\n",
    "    return (open.shift(lag) - close.shift(lag)).values\n",
    "\n",
    "# Feature 2: High - Low\n",
    "def highLow(high, low, lag=1):\n",
    "    return (high.shift(lag) - low.shift(lag)).values\n",
    "\n",
    "# Feature 3: Simple Moving Average (SMA)\n",
    "def SMA(close, lag_list=[5, 15]):\n",
    "    return [close.rolling(lag).mean().values for lag in lag_list]\n",
    "\n",
    "# Feature 4: Exponential Moving Average (EMA)\n",
    "def EMA(close, lag_list=[10, 20]):\n",
    "    return [close.ewm(span=lag, adjust=False).mean().values for lag in lag_list]\n",
    "\n",
    "# Feature 5: Relative Strength Index (RSI)\n",
    "def RSI(close, window=14):\n",
    "    delta = close.diff()\n",
    "    up, down = delta.clip(lower=0), -delta.clip(upper=0)\n",
    "    avg_gain = up.rolling(window=window).mean()\n",
    "    avg_loss = down.rolling(window=window).mean()\n",
    "    rs = avg_gain / avg_loss\n",
    "    return 100 - (100 / (1 + rs)).values\n",
    "\n",
    "# Feature 6: Moving Average Convergence Divergence (MACD)\n",
    "def MACD(close, fast=12, slow=26, signal=9):\n",
    "    fast_ema = close.ewm(span=fast, adjust=False).mean()\n",
    "    slow_ema = close.ewm(span=slow, adjust=False).mean()\n",
    "    macd = fast_ema - slow_ema\n",
    "    signal_line = macd.ewm(span=signal, adjust=False).mean()\n",
    "    return macd.values, signal_line.values\n",
    "\n",
    "# Feature 7: Bollinger Bands\n",
    "def BollingerBands(close, window=20, num_sd=2):\n",
    "    rolling_mean = close.rolling(window=window).mean()\n",
    "    rolling_std = close.rolling(window=window).std()\n",
    "    upper_band = rolling_mean + (rolling_std * num_sd)\n",
    "    lower_band = rolling_mean - (rolling_std * num_sd)\n",
    "    return upper_band.values, lower_band.values\n",
    "\n",
    "class FeaturesComputation:\n",
    "    def __init__(self, dataset):\n",
    "        self.dataset = dataset\n",
    "\n",
    "    def compute_features(self):\n",
    "        sma_features = dict(zip([\"SMA_\" + str(lag) for lag in [5, 15]], SMA(self.dataset['close'])))\n",
    "        ema_features = dict(zip([\"EMA_\" + str(lag) for lag in [10, 20]], EMA(self.dataset['close'])))\n",
    "        macd, signal_line = MACD(self.dataset['close'])\n",
    "        upper_band, lower_band = BollingerBands(self.dataset['close'])\n",
    "\n",
    "        return {\n",
    "            \"openClose\": openClose(self.dataset['open'], self.dataset['close']),\n",
    "            \"highLow\": highLow(self.dataset['high'], self.dataset['low']),\n",
    "            \"RSI\": RSI(self.dataset['close']),\n",
    "            \"MACD\": macd,\n",
    "            \"Signal_Line\": signal_line,\n",
    "            \"Upper_Band\": upper_band,\n",
    "            \"Lower_Band\": lower_band,\n",
    "            **sma_features,\n",
    "            **ema_features\n",
    "        }\n",
    "\n",
    "# Compute features\n",
    "features_df = pd.DataFrame(FeaturesComputation(stock_data).compute_features())\n",
    "features_df.index = stock_data.index\n",
    "features_df.dropna(inplace=True)\n",
    "\n",
    "# Prepare the data\n",
    "X = features_df\n",
    "y = stock_data['Label'].loc[X.index]"
   ]
  },
  {
   "cell_type": "markdown",
   "id": "8d4d9f0b-c158-405b-bc8d-2285752f794c",
   "metadata": {},
   "source": [
    "# Step 4: Data Process\n",
    "The `DataProcess` class preprocesses data by scaling features and splitting them into training and testing sets.\n",
    "\n",
    "### Key Features:\n",
    "\n",
    "- **Scaling:**\n",
    "  - Uses `StandardScaler` to standardize features.\n",
    "\n",
    "- **Splitting:**\n",
    "  - Splits data into training and testing sets with `train_test_split`.\n",
    "  - Maintains sequence order (important for time series).\n",
    "\n",
    "### Usage:\n",
    "\n",
    "- Instantiate with feature matrix `X` and target `y`.\n",
    "- Access `X_train`, `X_test`, `y_train`, `y_test` for model use."
   ]
  },
  {
   "cell_type": "code",
   "execution_count": 4,
   "id": "1ad7a8eb-2597-4705-bb73-5f9f3fdcf5e4",
   "metadata": {},
   "outputs": [],
   "source": [
    "class DataProcess:\n",
    "    def __init__(self, X, y, testsize=0.3):\n",
    "        self.X = X\n",
    "        self.y = y\n",
    "        self.testsize = testsize\n",
    "        self.X_scaled = self.scale_data()\n",
    "        self.X_train, self.X_test, self.y_train, self.y_test = self.split_data()\n",
    "\n",
    "    def scale_data(self):\n",
    "        scaler = StandardScaler()\n",
    "        return scaler.fit_transform(self.X)\n",
    "\n",
    "    def split_data(self):\n",
    "        return train_test_split(self.X_scaled, self.y, test_size=self.testsize, random_state=42, shuffle=False)\n",
    "\n",
    "# Preprocess and train-test split\n",
    "data_process = DataProcess(X, y, testsize=0.2)\n",
    "X_train, X_test, y_train, y_test = data_process.X_train, data_process.X_test, data_process.y_train, data_process.y_test\n"
   ]
  },
  {
   "cell_type": "markdown",
   "id": "e7a91238-7b5b-4025-9bd0-d399eece23de",
   "metadata": {},
   "source": [
    "# Step 5: Model Building and Hyperparameter Tuning (SVM)\n",
    "The `SVM_Classifier` function builds and evaluates an SVM classifier with the following steps:\n",
    "\n",
    "1. **Model Setup**:\n",
    "   - Uses `svm.SVC` with probability estimates.\n",
    "   - Defines a parameter grid for hyperparameters: `C`, `gamma`, and `kernel`.\n",
    "   - Uses `TimeSeriesSplit` for cross-validation.\n",
    "\n",
    "2. **Grid Search**:\n",
    "   - Performs grid search with cross-validation to find the best parameters based on accuracy.\n",
    "\n",
    "3. **Training and Predictions**:\n",
    "   - Trains the model using the best parameters.\n",
    "   - Makes predictions and calculates probabilities on the test set.\n",
    "\n",
    "4. **Evaluation Metrics**:\n",
    "   - Prints best parameters and accuracy for both training and test sets.\n",
    "   - Displays a classification report and a confusion matrix using a heatmap.\n",
    "\n",
    "5. **ROC Curve and AUC**:\n",
    "   - Computes and plots the ROC curve and calculates the AUC to evaluate model performance.\n",
    "\n",
    "The function provides a comprehensive evaluation of the model's performance using both accuracy and ROC metrics."
   ]
  },
  {
   "cell_type": "code",
   "execution_count": 5,
   "id": "d45a22d4-120d-4d29-8964-fd91cec9ddcb",
   "metadata": {},
   "outputs": [],
   "source": [
    "# SVM Classifier with Grid Search and Evaluation Metrics\n",
    "def SVM_Classifier(X_train, y_train, X_test, y_test):\n",
    "    classifier = svm.SVC(probability=True)\n",
    "    param_grid = {'C': [300], 'gamma': ['scale'], 'kernel': ['linear']}\n",
    "    tscv = TimeSeriesSplit(n_splits=5, gap=1)\n",
    "    grid_search = GridSearchCV(classifier, param_grid, scoring='accuracy', cv=tscv, n_jobs=-1)\n",
    "\n",
    "    # Train the model\n",
    "    grid_search.fit(X_train, y_train)\n",
    "\n",
    "    # Results\n",
    "    print(\"Best Parameters:\", grid_search.best_params_)\n",
    "    \n",
    "    # Predictions\n",
    "    y_pred = grid_search.predict(X_test)\n",
    "    y_pred_prob = grid_search.predict_proba(X_test)[:, 1]\n",
    "\n",
    "    # Accuracy\n",
    "    print(\"Training Accuracy:\", accuracy_score(y_train, grid_search.predict(X_train)))\n",
    "    print(\"Test Accuracy:\", accuracy_score(y_test, y_pred))\n",
    "\n",
    "    # Classification Report\n",
    "    print(\"\\nClassification Report:\")\n",
    "    print(classification_report(y_test, y_pred))\n",
    "\n",
    "    # Confusion Matrix\n",
    "    cm = confusion_matrix(y_test, y_pred)\n",
    "    sns.heatmap(cm, annot=True, fmt='d', cmap='Blues', linewidths=2, linecolor='black', cbar=False)\n",
    "    plt.title(\"Confusion Matrix\")\n",
    "    plt.ylabel(\"Actual\")\n",
    "    plt.xlabel(\"Predicted\")\n",
    "    plt.show()\n",
    "\n",
    "    # ROC Curve and AUC\n",
    "    fpr, tpr, thresholds = roc_curve(y_test, y_pred_prob)\n",
    "    roc_auc = auc(fpr, tpr)\n",
    "    print(f\"Area under ROC curve (AUC): {roc_auc:.4f}\")\n",
    "\n",
    "    # Plot ROC Curve\n",
    "    plt.figure()\n",
    "    plt.plot(fpr, tpr, color='darkorange', lw=2, label=f'ROC curve (area = {roc_auc:.4f})')\n",
    "    plt.plot([0, 1], [0, 1], color='navy', lw=2, linestyle='--')\n",
    "    plt.xlim([0.0, 1.0])\n",
    "    plt.ylim([0.0, 1.05])\n",
    "    plt.xlabel('False Positive Rate')\n",
    "    plt.ylabel('True Positive Rate')\n",
    "    plt.title('Receiver Operating Characteristic (ROC) Curve')\n",
    "    plt.legend(loc=\"lower right\")\n",
    "    plt.show()"
   ]
  },
  {
   "cell_type": "markdown",
   "id": "feeb6339-07e2-40be-b7b5-818bff76dcc1",
   "metadata": {},
   "source": [
    "# Step 6: Model Evaluation\n",
    "Finally, we will evaluate the model using the ROC AUC, confusion matrix, and classification report."
   ]
  },
  {
   "cell_type": "code",
   "execution_count": 6,
   "id": "270ca1dc-fa33-4ff8-88af-2df746a543a5",
   "metadata": {},
   "outputs": [
    {
     "name": "stdout",
     "output_type": "stream",
     "text": [
      "Best Parameters: {'C': 300, 'gamma': 'scale', 'kernel': 'linear'}\n",
      "Training Accuracy: 0.6484680368175514\n",
      "Test Accuracy: 0.6732223903177005\n",
      "\n",
      "Classification Report:\n",
      "              precision    recall  f1-score   support\n",
      "\n",
      "           0       0.66      0.75      0.70      1012\n",
      "           1       0.69      0.60      0.64       971\n",
      "\n",
      "    accuracy                           0.67      1983\n",
      "   macro avg       0.68      0.67      0.67      1983\n",
      "weighted avg       0.68      0.67      0.67      1983\n",
      "\n"
     ]
    },
    {
     "data": {
      "image/png": "[encoded data removed]",
      "text/plain": [
       "<Figure size 640x480 with 1 Axes>"
      ]
     },
     "metadata": {},
     "output_type": "display_data"
    },
    {
     "name": "stdout",
     "output_type": "stream",
     "text": [
      "Area under ROC curve (AUC): 0.7280\n"
     ]
    },
    {
     "data": {
      "image/png": "[encoded data removed]",
      "text/plain": [
       "<Figure size 640x480 with 1 Axes>"
      ]
     },
     "metadata": {},
     "output_type": "display_data"
    }
   ],
   "source": [
    "# Train and evaluate the model\n",
    "SVM_Classifier(X_train, y_train, X_test, y_test)"
   ]
  }
 ],
 "metadata": {
  "kernelspec": {
   "display_name": "Python 3 (ipykernel)",
   "language": "python",
   "name": "python3"
  },
  "language_info": {
   "codemirror_mode": {
    "name": "ipython",
    "version": 3
   },
   "file_extension": ".py",
   "mimetype": "text/x-python",
   "name": "python",
   "nbconvert_exporter": "python",
   "pygments_lexer": "ipython3",
   "version": "3.11.10"
  }
 },
 "nbformat": 4,
 "nbformat_minor": 5
}
